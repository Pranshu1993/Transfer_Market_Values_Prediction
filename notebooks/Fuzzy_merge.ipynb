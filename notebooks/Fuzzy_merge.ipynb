{
  "nbformat": 4,
  "nbformat_minor": 0,
  "metadata": {
    "colab": {
      "provenance": []
    },
    "kernelspec": {
      "name": "python3",
      "display_name": "Python 3"
    },
    "language_info": {
      "name": "python"
    },
    "accelerator": "GPU",
    "gpuClass": "standard"
  },
  "cells": [
    {
      "cell_type": "code",
      "source": [
        "!pip install fuzzywuzzy"
      ],
      "metadata": {
        "colab": {
          "base_uri": "https://localhost:8080/"
        },
        "id": "_W0LU74BUOgd",
        "outputId": "04cca858-5087-41f6-f568-2c7a6894c1e7"
      },
      "execution_count": null,
      "outputs": [
        {
          "output_type": "stream",
          "name": "stdout",
          "text": [
            "Looking in indexes: https://pypi.org/simple, https://us-python.pkg.dev/colab-wheels/public/simple/\n",
            "Requirement already satisfied: fuzzywuzzy in /usr/local/lib/python3.9/dist-packages (0.18.0)\n"
          ]
        }
      ]
    },
    {
      "cell_type": "code",
      "execution_count": null,
      "metadata": {
        "id": "1lzHILr5M4r7",
        "colab": {
          "base_uri": "https://localhost:8080/"
        },
        "outputId": "626e1f47-ced5-4a5c-c067-c7851854ed6c"
      },
      "outputs": [
        {
          "output_type": "stream",
          "name": "stderr",
          "text": [
            "/usr/local/lib/python3.9/dist-packages/fuzzywuzzy/fuzz.py:11: UserWarning: Using slow pure-python SequenceMatcher. Install python-Levenshtein to remove this warning\n",
            "  warnings.warn('Using slow pure-python SequenceMatcher. Install python-Levenshtein to remove this warning')\n"
          ]
        }
      ],
      "source": [
        "import pandas as pd\n",
        "from fuzzywuzzy import fuzz\n",
        "\n",
        "# Read the three xlsx files\n",
        "file1 = pd.read_excel('/content/Footystats.xlsx')\n",
        "file2 = pd.read_excel('/content/Personal.xlsx')\n",
        "file3 = pd.read_excel('/content/Transfer Market.xlsx')\n",
        "\n",
        "# Define the fuzzy match function\n"
      ]
    },
    {
      "cell_type": "code",
      "source": [
        "file1.head(1)"
      ],
      "metadata": {
        "id": "T7ZqVvvEn5kJ",
        "outputId": "17af0388-b3b5-4b03-9d46-7db38370a40a",
        "colab": {
          "base_uri": "https://localhost:8080/",
          "height": 192
        }
      },
      "execution_count": null,
      "outputs": [
        {
          "output_type": "execute_result",
          "data": {
            "text/plain": [
              "           Name  Year   birthday         birthday_GMT          league  \\\n",
              "0  Aaron Hughes  2013  310867200  1979-11-08 00:00:00  Premier League   \n",
              "\n",
              "   position    Club  minutes_played_overall  minutes_played_home  \\\n",
              "0  Defender  Fulham                    2114                 1034   \n",
              "\n",
              "   minutes_played_away  ... conceded_per_90_overall  min_per_conceded_overall  \\\n",
              "0                 1080  ...                    1.66                        54   \n",
              "\n",
              "   min_per_match  min_per_card_overall  min_per_assist_overall  \\\n",
              "0             88                  2114                       0   \n",
              "\n",
              "   cards_per_90_overall  rank_in_league_top_attackers  \\\n",
              "0                  0.04                           322   \n",
              "\n",
              "   rank_in_league_top_midfielders  rank_in_league_top_defenders  \\\n",
              "0                             310                           136   \n",
              "\n",
              "   rank_in_club_top_scorer  \n",
              "0                       19  \n",
              "\n",
              "[1 rows x 46 columns]"
            ],
            "text/html": [
              "\n",
              "  <div id=\"df-635f32d7-350e-4227-b375-9c7a0e168aa8\">\n",
              "    <div class=\"colab-df-container\">\n",
              "      <div>\n",
              "<style scoped>\n",
              "    .dataframe tbody tr th:only-of-type {\n",
              "        vertical-align: middle;\n",
              "    }\n",
              "\n",
              "    .dataframe tbody tr th {\n",
              "        vertical-align: top;\n",
              "    }\n",
              "\n",
              "    .dataframe thead th {\n",
              "        text-align: right;\n",
              "    }\n",
              "</style>\n",
              "<table border=\"1\" class=\"dataframe\">\n",
              "  <thead>\n",
              "    <tr style=\"text-align: right;\">\n",
              "      <th></th>\n",
              "      <th>Name</th>\n",
              "      <th>Year</th>\n",
              "      <th>birthday</th>\n",
              "      <th>birthday_GMT</th>\n",
              "      <th>league</th>\n",
              "      <th>position</th>\n",
              "      <th>Club</th>\n",
              "      <th>minutes_played_overall</th>\n",
              "      <th>minutes_played_home</th>\n",
              "      <th>minutes_played_away</th>\n",
              "      <th>...</th>\n",
              "      <th>conceded_per_90_overall</th>\n",
              "      <th>min_per_conceded_overall</th>\n",
              "      <th>min_per_match</th>\n",
              "      <th>min_per_card_overall</th>\n",
              "      <th>min_per_assist_overall</th>\n",
              "      <th>cards_per_90_overall</th>\n",
              "      <th>rank_in_league_top_attackers</th>\n",
              "      <th>rank_in_league_top_midfielders</th>\n",
              "      <th>rank_in_league_top_defenders</th>\n",
              "      <th>rank_in_club_top_scorer</th>\n",
              "    </tr>\n",
              "  </thead>\n",
              "  <tbody>\n",
              "    <tr>\n",
              "      <th>0</th>\n",
              "      <td>Aaron Hughes</td>\n",
              "      <td>2013</td>\n",
              "      <td>310867200</td>\n",
              "      <td>1979-11-08 00:00:00</td>\n",
              "      <td>Premier League</td>\n",
              "      <td>Defender</td>\n",
              "      <td>Fulham</td>\n",
              "      <td>2114</td>\n",
              "      <td>1034</td>\n",
              "      <td>1080</td>\n",
              "      <td>...</td>\n",
              "      <td>1.66</td>\n",
              "      <td>54</td>\n",
              "      <td>88</td>\n",
              "      <td>2114</td>\n",
              "      <td>0</td>\n",
              "      <td>0.04</td>\n",
              "      <td>322</td>\n",
              "      <td>310</td>\n",
              "      <td>136</td>\n",
              "      <td>19</td>\n",
              "    </tr>\n",
              "  </tbody>\n",
              "</table>\n",
              "<p>1 rows × 46 columns</p>\n",
              "</div>\n",
              "      <button class=\"colab-df-convert\" onclick=\"convertToInteractive('df-635f32d7-350e-4227-b375-9c7a0e168aa8')\"\n",
              "              title=\"Convert this dataframe to an interactive table.\"\n",
              "              style=\"display:none;\">\n",
              "        \n",
              "  <svg xmlns=\"http://www.w3.org/2000/svg\" height=\"24px\"viewBox=\"0 0 24 24\"\n",
              "       width=\"24px\">\n",
              "    <path d=\"M0 0h24v24H0V0z\" fill=\"none\"/>\n",
              "    <path d=\"M18.56 5.44l.94 2.06.94-2.06 2.06-.94-2.06-.94-.94-2.06-.94 2.06-2.06.94zm-11 1L8.5 8.5l.94-2.06 2.06-.94-2.06-.94L8.5 2.5l-.94 2.06-2.06.94zm10 10l.94 2.06.94-2.06 2.06-.94-2.06-.94-.94-2.06-.94 2.06-2.06.94z\"/><path d=\"M17.41 7.96l-1.37-1.37c-.4-.4-.92-.59-1.43-.59-.52 0-1.04.2-1.43.59L10.3 9.45l-7.72 7.72c-.78.78-.78 2.05 0 2.83L4 21.41c.39.39.9.59 1.41.59.51 0 1.02-.2 1.41-.59l7.78-7.78 2.81-2.81c.8-.78.8-2.07 0-2.86zM5.41 20L4 18.59l7.72-7.72 1.47 1.35L5.41 20z\"/>\n",
              "  </svg>\n",
              "      </button>\n",
              "      \n",
              "  <style>\n",
              "    .colab-df-container {\n",
              "      display:flex;\n",
              "      flex-wrap:wrap;\n",
              "      gap: 12px;\n",
              "    }\n",
              "\n",
              "    .colab-df-convert {\n",
              "      background-color: #E8F0FE;\n",
              "      border: none;\n",
              "      border-radius: 50%;\n",
              "      cursor: pointer;\n",
              "      display: none;\n",
              "      fill: #1967D2;\n",
              "      height: 32px;\n",
              "      padding: 0 0 0 0;\n",
              "      width: 32px;\n",
              "    }\n",
              "\n",
              "    .colab-df-convert:hover {\n",
              "      background-color: #E2EBFA;\n",
              "      box-shadow: 0px 1px 2px rgba(60, 64, 67, 0.3), 0px 1px 3px 1px rgba(60, 64, 67, 0.15);\n",
              "      fill: #174EA6;\n",
              "    }\n",
              "\n",
              "    [theme=dark] .colab-df-convert {\n",
              "      background-color: #3B4455;\n",
              "      fill: #D2E3FC;\n",
              "    }\n",
              "\n",
              "    [theme=dark] .colab-df-convert:hover {\n",
              "      background-color: #434B5C;\n",
              "      box-shadow: 0px 1px 3px 1px rgba(0, 0, 0, 0.15);\n",
              "      filter: drop-shadow(0px 1px 2px rgba(0, 0, 0, 0.3));\n",
              "      fill: #FFFFFF;\n",
              "    }\n",
              "  </style>\n",
              "\n",
              "      <script>\n",
              "        const buttonEl =\n",
              "          document.querySelector('#df-635f32d7-350e-4227-b375-9c7a0e168aa8 button.colab-df-convert');\n",
              "        buttonEl.style.display =\n",
              "          google.colab.kernel.accessAllowed ? 'block' : 'none';\n",
              "\n",
              "        async function convertToInteractive(key) {\n",
              "          const element = document.querySelector('#df-635f32d7-350e-4227-b375-9c7a0e168aa8');\n",
              "          const dataTable =\n",
              "            await google.colab.kernel.invokeFunction('convertToInteractive',\n",
              "                                                     [key], {});\n",
              "          if (!dataTable) return;\n",
              "\n",
              "          const docLinkHtml = 'Like what you see? Visit the ' +\n",
              "            '<a target=\"_blank\" href=https://colab.research.google.com/notebooks/data_table.ipynb>data table notebook</a>'\n",
              "            + ' to learn more about interactive tables.';\n",
              "          element.innerHTML = '';\n",
              "          dataTable['output_type'] = 'display_data';\n",
              "          await google.colab.output.renderOutput(dataTable, element);\n",
              "          const docLink = document.createElement('div');\n",
              "          docLink.innerHTML = docLinkHtml;\n",
              "          element.appendChild(docLink);\n",
              "        }\n",
              "      </script>\n",
              "    </div>\n",
              "  </div>\n",
              "  "
            ]
          },
          "metadata": {},
          "execution_count": 5
        }
      ]
    },
    {
      "cell_type": "code",
      "source": [
        "file3.head(1)"
      ],
      "metadata": {
        "id": "Wpvi39cdn719",
        "outputId": "7f72edb1-e08b-4e5e-ced8-f29b8aac1fde",
        "colab": {
          "base_uri": "https://localhost:8080/",
          "height": 81
        }
      },
      "execution_count": null,
      "outputs": [
        {
          "output_type": "execute_result",
          "data": {
            "text/plain": [
              "               Name  Year  Age        Club  Market Value       Date\n",
              "0  Aleksandar Tonev  2010   20  CSKA Sofia        900000 2010-12-22"
            ],
            "text/html": [
              "\n",
              "  <div id=\"df-6d67dcb7-6bbb-49fa-a73d-e5b7bf7aade4\">\n",
              "    <div class=\"colab-df-container\">\n",
              "      <div>\n",
              "<style scoped>\n",
              "    .dataframe tbody tr th:only-of-type {\n",
              "        vertical-align: middle;\n",
              "    }\n",
              "\n",
              "    .dataframe tbody tr th {\n",
              "        vertical-align: top;\n",
              "    }\n",
              "\n",
              "    .dataframe thead th {\n",
              "        text-align: right;\n",
              "    }\n",
              "</style>\n",
              "<table border=\"1\" class=\"dataframe\">\n",
              "  <thead>\n",
              "    <tr style=\"text-align: right;\">\n",
              "      <th></th>\n",
              "      <th>Name</th>\n",
              "      <th>Year</th>\n",
              "      <th>Age</th>\n",
              "      <th>Club</th>\n",
              "      <th>Market Value</th>\n",
              "      <th>Date</th>\n",
              "    </tr>\n",
              "  </thead>\n",
              "  <tbody>\n",
              "    <tr>\n",
              "      <th>0</th>\n",
              "      <td>Aleksandar Tonev</td>\n",
              "      <td>2010</td>\n",
              "      <td>20</td>\n",
              "      <td>CSKA Sofia</td>\n",
              "      <td>900000</td>\n",
              "      <td>2010-12-22</td>\n",
              "    </tr>\n",
              "  </tbody>\n",
              "</table>\n",
              "</div>\n",
              "      <button class=\"colab-df-convert\" onclick=\"convertToInteractive('df-6d67dcb7-6bbb-49fa-a73d-e5b7bf7aade4')\"\n",
              "              title=\"Convert this dataframe to an interactive table.\"\n",
              "              style=\"display:none;\">\n",
              "        \n",
              "  <svg xmlns=\"http://www.w3.org/2000/svg\" height=\"24px\"viewBox=\"0 0 24 24\"\n",
              "       width=\"24px\">\n",
              "    <path d=\"M0 0h24v24H0V0z\" fill=\"none\"/>\n",
              "    <path d=\"M18.56 5.44l.94 2.06.94-2.06 2.06-.94-2.06-.94-.94-2.06-.94 2.06-2.06.94zm-11 1L8.5 8.5l.94-2.06 2.06-.94-2.06-.94L8.5 2.5l-.94 2.06-2.06.94zm10 10l.94 2.06.94-2.06 2.06-.94-2.06-.94-.94-2.06-.94 2.06-2.06.94z\"/><path d=\"M17.41 7.96l-1.37-1.37c-.4-.4-.92-.59-1.43-.59-.52 0-1.04.2-1.43.59L10.3 9.45l-7.72 7.72c-.78.78-.78 2.05 0 2.83L4 21.41c.39.39.9.59 1.41.59.51 0 1.02-.2 1.41-.59l7.78-7.78 2.81-2.81c.8-.78.8-2.07 0-2.86zM5.41 20L4 18.59l7.72-7.72 1.47 1.35L5.41 20z\"/>\n",
              "  </svg>\n",
              "      </button>\n",
              "      \n",
              "  <style>\n",
              "    .colab-df-container {\n",
              "      display:flex;\n",
              "      flex-wrap:wrap;\n",
              "      gap: 12px;\n",
              "    }\n",
              "\n",
              "    .colab-df-convert {\n",
              "      background-color: #E8F0FE;\n",
              "      border: none;\n",
              "      border-radius: 50%;\n",
              "      cursor: pointer;\n",
              "      display: none;\n",
              "      fill: #1967D2;\n",
              "      height: 32px;\n",
              "      padding: 0 0 0 0;\n",
              "      width: 32px;\n",
              "    }\n",
              "\n",
              "    .colab-df-convert:hover {\n",
              "      background-color: #E2EBFA;\n",
              "      box-shadow: 0px 1px 2px rgba(60, 64, 67, 0.3), 0px 1px 3px 1px rgba(60, 64, 67, 0.15);\n",
              "      fill: #174EA6;\n",
              "    }\n",
              "\n",
              "    [theme=dark] .colab-df-convert {\n",
              "      background-color: #3B4455;\n",
              "      fill: #D2E3FC;\n",
              "    }\n",
              "\n",
              "    [theme=dark] .colab-df-convert:hover {\n",
              "      background-color: #434B5C;\n",
              "      box-shadow: 0px 1px 3px 1px rgba(0, 0, 0, 0.15);\n",
              "      filter: drop-shadow(0px 1px 2px rgba(0, 0, 0, 0.3));\n",
              "      fill: #FFFFFF;\n",
              "    }\n",
              "  </style>\n",
              "\n",
              "      <script>\n",
              "        const buttonEl =\n",
              "          document.querySelector('#df-6d67dcb7-6bbb-49fa-a73d-e5b7bf7aade4 button.colab-df-convert');\n",
              "        buttonEl.style.display =\n",
              "          google.colab.kernel.accessAllowed ? 'block' : 'none';\n",
              "\n",
              "        async function convertToInteractive(key) {\n",
              "          const element = document.querySelector('#df-6d67dcb7-6bbb-49fa-a73d-e5b7bf7aade4');\n",
              "          const dataTable =\n",
              "            await google.colab.kernel.invokeFunction('convertToInteractive',\n",
              "                                                     [key], {});\n",
              "          if (!dataTable) return;\n",
              "\n",
              "          const docLinkHtml = 'Like what you see? Visit the ' +\n",
              "            '<a target=\"_blank\" href=https://colab.research.google.com/notebooks/data_table.ipynb>data table notebook</a>'\n",
              "            + ' to learn more about interactive tables.';\n",
              "          element.innerHTML = '';\n",
              "          dataTable['output_type'] = 'display_data';\n",
              "          await google.colab.output.renderOutput(dataTable, element);\n",
              "          const docLink = document.createElement('div');\n",
              "          docLink.innerHTML = docLinkHtml;\n",
              "          element.appendChild(docLink);\n",
              "        }\n",
              "      </script>\n",
              "    </div>\n",
              "  </div>\n",
              "  "
            ]
          },
          "metadata": {},
          "execution_count": 6
        }
      ]
    },
    {
      "cell_type": "code",
      "source": [
        "import pandas as pd\n",
        "import numpy as np\n",
        "from fuzzywuzzy import fuzz\n",
        "from fuzzywuzzy import process"
      ],
      "metadata": {
        "id": "moX_Xs5l2Suj"
      },
      "execution_count": null,
      "outputs": []
    },
    {
      "cell_type": "code",
      "source": [
        "#get list of unique teams existing in file1\n",
        "lst_teams = list(np.unique(np.array(file1['Year'])))\n",
        "#define arbitrary threshold\n",
        "thres = 70\n",
        "#for each team match similar texts\n",
        "for team in lst_teams:\n",
        "    #iterration on dataframe filtered by team\n",
        "    for index, row in file1.loc[file1['Year']==team].iterrows():\n",
        "        #get list of players in this team\n",
        "        lst_player_per_team = list(np.array(file3.loc[file3['Year']==team]['Name']))\n",
        "        #use of fuzzywuzzy to make text matching\n",
        "        output_ratio = process.extract(row['Name'], lst_player_per_team, scorer=fuzz.token_sort_ratio)\n",
        "        #check if there is players from file3 in this team\n",
        "        if output_ratio !=[]:\n",
        "            #put arbitrary threshold to get most similar text\n",
        "            if output_ratio[0][1]>thres:\n",
        "                file1.loc[index, 'Market Value'] = file3.loc[(file3['Year']==team)&(file3['Name']==output_ratio[0][0])]['Market Value'].values[0]\n",
        "file1 = file1.fillna('XX')"
      ],
      "metadata": {
        "id": "RcetJuGv2Uz6"
      },
      "execution_count": null,
      "outputs": []
    },
    {
      "cell_type": "code",
      "source": [
        "file1.info()"
      ],
      "metadata": {
        "id": "1F3t_odB5LLP",
        "outputId": "49125019-ebb9-40c3-9549-0aca10c0eaf6",
        "colab": {
          "base_uri": "https://localhost:8080/"
        }
      },
      "execution_count": null,
      "outputs": [
        {
          "output_type": "stream",
          "name": "stdout",
          "text": [
            "<class 'pandas.core.frame.DataFrame'>\n",
            "RangeIndex: 6234 entries, 0 to 6233\n",
            "Data columns (total 47 columns):\n",
            " #   Column                          Non-Null Count  Dtype  \n",
            "---  ------                          --------------  -----  \n",
            " 0   Name                            6234 non-null   object \n",
            " 1   Year                            6234 non-null   int64  \n",
            " 2   birthday                        6234 non-null   int64  \n",
            " 3   birthday_GMT                    6234 non-null   object \n",
            " 4   league                          6234 non-null   object \n",
            " 5   position                        6234 non-null   object \n",
            " 6   Club                            6234 non-null   object \n",
            " 7   minutes_played_overall          6234 non-null   int64  \n",
            " 8   minutes_played_home             6234 non-null   int64  \n",
            " 9   minutes_played_away             6234 non-null   int64  \n",
            " 10  nationality                     6234 non-null   object \n",
            " 11  appearances_overall             6234 non-null   int64  \n",
            " 12  appearances_home                6234 non-null   int64  \n",
            " 13  appearances_away                6234 non-null   int64  \n",
            " 14  goals_overall                   6234 non-null   int64  \n",
            " 15  goals_home                      6234 non-null   int64  \n",
            " 16  goals_away                      6234 non-null   int64  \n",
            " 17  assists_overall                 6234 non-null   int64  \n",
            " 18  assists_home                    6234 non-null   int64  \n",
            " 19  assists_away                    6234 non-null   int64  \n",
            " 20  penalty_goals                   6234 non-null   int64  \n",
            " 21  penalty_misses                  6234 non-null   int64  \n",
            " 22  clean_sheets_overall            6234 non-null   int64  \n",
            " 23  clean_sheets_home               6234 non-null   int64  \n",
            " 24  clean_sheets_away               6234 non-null   int64  \n",
            " 25  conceded_overall                6234 non-null   int64  \n",
            " 26  conceded_home                   6234 non-null   int64  \n",
            " 27  conceded_away                   6234 non-null   int64  \n",
            " 28  yellow_cards_overall            6234 non-null   int64  \n",
            " 29  red_cards_overall               6234 non-null   int64  \n",
            " 30  goals_involved_per_90_overall   6234 non-null   float64\n",
            " 31  assists_per_90_overall          6234 non-null   float64\n",
            " 32  goals_per_90_overall            6234 non-null   float64\n",
            " 33  goals_per_90_home               6234 non-null   float64\n",
            " 34  goals_per_90_away               6234 non-null   float64\n",
            " 35  min_per_goal_overall            6234 non-null   int64  \n",
            " 36  conceded_per_90_overall         6234 non-null   float64\n",
            " 37  min_per_conceded_overall        6234 non-null   int64  \n",
            " 38  min_per_match                   6234 non-null   int64  \n",
            " 39  min_per_card_overall            6234 non-null   int64  \n",
            " 40  min_per_assist_overall          6234 non-null   int64  \n",
            " 41  cards_per_90_overall            6234 non-null   float64\n",
            " 42  rank_in_league_top_attackers    6234 non-null   int64  \n",
            " 43  rank_in_league_top_midfielders  6234 non-null   int64  \n",
            " 44  rank_in_league_top_defenders    6234 non-null   int64  \n",
            " 45  rank_in_club_top_scorer         6234 non-null   int64  \n",
            " 46  Market Value                    6234 non-null   object \n",
            "dtypes: float64(7), int64(33), object(7)\n",
            "memory usage: 2.2+ MB\n"
          ]
        }
      ]
    },
    {
      "cell_type": "code",
      "source": [
        "file1.to_csv('matched_data.csv', index=False)"
      ],
      "metadata": {
        "id": "o_7RkmHV5NQ1"
      },
      "execution_count": null,
      "outputs": []
    },
    {
      "cell_type": "code",
      "source": [
        "df11 = file1.drop(file1[file1[\"Market Value\"]==\"XX\"].index)"
      ],
      "metadata": {
        "id": "DCV7evLF5RoN"
      },
      "execution_count": null,
      "outputs": []
    },
    {
      "cell_type": "code",
      "source": [
        "df11.info()"
      ],
      "metadata": {
        "id": "2A9jI9EB664W",
        "outputId": "7341c392-422b-4e27-d656-df4afded9efa",
        "colab": {
          "base_uri": "https://localhost:8080/"
        }
      },
      "execution_count": null,
      "outputs": [
        {
          "output_type": "stream",
          "name": "stdout",
          "text": [
            "<class 'pandas.core.frame.DataFrame'>\n",
            "Int64Index: 4416 entries, 0 to 6231\n",
            "Data columns (total 47 columns):\n",
            " #   Column                          Non-Null Count  Dtype  \n",
            "---  ------                          --------------  -----  \n",
            " 0   Name                            4416 non-null   object \n",
            " 1   Year                            4416 non-null   int64  \n",
            " 2   birthday                        4416 non-null   int64  \n",
            " 3   birthday_GMT                    4416 non-null   object \n",
            " 4   league                          4416 non-null   object \n",
            " 5   position                        4416 non-null   object \n",
            " 6   Club                            4416 non-null   object \n",
            " 7   minutes_played_overall          4416 non-null   int64  \n",
            " 8   minutes_played_home             4416 non-null   int64  \n",
            " 9   minutes_played_away             4416 non-null   int64  \n",
            " 10  nationality                     4416 non-null   object \n",
            " 11  appearances_overall             4416 non-null   int64  \n",
            " 12  appearances_home                4416 non-null   int64  \n",
            " 13  appearances_away                4416 non-null   int64  \n",
            " 14  goals_overall                   4416 non-null   int64  \n",
            " 15  goals_home                      4416 non-null   int64  \n",
            " 16  goals_away                      4416 non-null   int64  \n",
            " 17  assists_overall                 4416 non-null   int64  \n",
            " 18  assists_home                    4416 non-null   int64  \n",
            " 19  assists_away                    4416 non-null   int64  \n",
            " 20  penalty_goals                   4416 non-null   int64  \n",
            " 21  penalty_misses                  4416 non-null   int64  \n",
            " 22  clean_sheets_overall            4416 non-null   int64  \n",
            " 23  clean_sheets_home               4416 non-null   int64  \n",
            " 24  clean_sheets_away               4416 non-null   int64  \n",
            " 25  conceded_overall                4416 non-null   int64  \n",
            " 26  conceded_home                   4416 non-null   int64  \n",
            " 27  conceded_away                   4416 non-null   int64  \n",
            " 28  yellow_cards_overall            4416 non-null   int64  \n",
            " 29  red_cards_overall               4416 non-null   int64  \n",
            " 30  goals_involved_per_90_overall   4416 non-null   float64\n",
            " 31  assists_per_90_overall          4416 non-null   float64\n",
            " 32  goals_per_90_overall            4416 non-null   float64\n",
            " 33  goals_per_90_home               4416 non-null   float64\n",
            " 34  goals_per_90_away               4416 non-null   float64\n",
            " 35  min_per_goal_overall            4416 non-null   int64  \n",
            " 36  conceded_per_90_overall         4416 non-null   float64\n",
            " 37  min_per_conceded_overall        4416 non-null   int64  \n",
            " 38  min_per_match                   4416 non-null   int64  \n",
            " 39  min_per_card_overall            4416 non-null   int64  \n",
            " 40  min_per_assist_overall          4416 non-null   int64  \n",
            " 41  cards_per_90_overall            4416 non-null   float64\n",
            " 42  rank_in_league_top_attackers    4416 non-null   int64  \n",
            " 43  rank_in_league_top_midfielders  4416 non-null   int64  \n",
            " 44  rank_in_league_top_defenders    4416 non-null   int64  \n",
            " 45  rank_in_club_top_scorer         4416 non-null   int64  \n",
            " 46  Market Value                    4416 non-null   object \n",
            "dtypes: float64(7), int64(33), object(7)\n",
            "memory usage: 1.6+ MB\n"
          ]
        }
      ]
    },
    {
      "cell_type": "code",
      "source": [],
      "metadata": {
        "id": "N9tuyX1V7qIl"
      },
      "execution_count": null,
      "outputs": []
    }
  ]
}